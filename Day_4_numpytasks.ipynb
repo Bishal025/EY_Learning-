{
 "cells": [
  {
   "cell_type": "code",
   "execution_count": 3,
   "metadata": {},
   "outputs": [
    {
     "data": {
      "text/plain": [
       "array([0., 0., 0., 0., 1., 0., 0., 0., 0., 0.])"
      ]
     },
     "execution_count": 3,
     "metadata": {},
     "output_type": "execute_result"
    }
   ],
   "source": [
    "import numpy as np\n",
    "\n",
    "# 1. Create a null vector of size 10 but the fifth value which is 1\n",
    "null_vector = np.zeros(10)\n",
    "null_vector[4] = 1\n",
    "null_vector\n"
   ]
  },
  {
   "cell_type": "code",
   "execution_count": 4,
   "metadata": {},
   "outputs": [
    {
     "data": {
      "text/plain": [
       "array([10, 11, 12, 13, 14, 15, 16, 17, 18, 19, 20, 21, 22, 23, 24, 25, 26,\n",
       "       27, 28, 29, 30, 31, 32, 33, 34, 35, 36, 37, 38, 39, 40, 41, 42, 43,\n",
       "       44, 45, 46, 47, 48, 49])"
      ]
     },
     "execution_count": 4,
     "metadata": {},
     "output_type": "execute_result"
    }
   ],
   "source": [
    "# 2. Create a vector with values ranging from 10 to 49\n",
    "vector_range_10_to_49 = np.arange(10, 50)\n",
    "vector_range_10_to_49"
   ]
  },
  {
   "cell_type": "code",
   "execution_count": 5,
   "metadata": {},
   "outputs": [
    {
     "data": {
      "text/plain": [
       "array([49, 48, 47, 46, 45, 44, 43, 42, 41, 40, 39, 38, 37, 36, 35, 34, 33,\n",
       "       32, 31, 30, 29, 28, 27, 26, 25, 24, 23, 22, 21, 20, 19, 18, 17, 16,\n",
       "       15, 14, 13, 12, 11, 10])"
      ]
     },
     "execution_count": 5,
     "metadata": {},
     "output_type": "execute_result"
    }
   ],
   "source": [
    "# 3. Reverse a vector\n",
    "reversed_vector = vector_range_10_to_49[::-1]\n",
    "reversed_vector"
   ]
  },
  {
   "cell_type": "code",
   "execution_count": 7,
   "metadata": {},
   "outputs": [
    {
     "data": {
      "text/plain": [
       "array([[0, 1, 2],\n",
       "       [3, 4, 5],\n",
       "       [6, 7, 8]])"
      ]
     },
     "execution_count": 7,
     "metadata": {},
     "output_type": "execute_result"
    }
   ],
   "source": [
    "# 4. Create a 3x3 matrix with values ranging from 0 to 8\n",
    "matrix_3x3 = np.arange(9).reshape(3, 3)\n",
    "matrix_3x3"
   ]
  },
  {
   "cell_type": "code",
   "execution_count": 6,
   "metadata": {},
   "outputs": [
    {
     "data": {
      "text/plain": [
       "(array([0, 1, 4]),)"
      ]
     },
     "execution_count": 6,
     "metadata": {},
     "output_type": "execute_result"
    }
   ],
   "source": [
    "# 5. Find indices of non-zero elements from [1,2,0,0,4,0]\n",
    "arr = np.array([1, 2, 0, 0, 4, 0])\n",
    "non_zero_indices = np.nonzero(arr)\n",
    "non_zero_indices\n"
   ]
  },
  {
   "cell_type": "code",
   "execution_count": 8,
   "metadata": {},
   "outputs": [
    {
     "data": {
      "text/plain": [
       "array([[[0.61576248, 0.09381922, 0.2064676 ],\n",
       "        [0.43721146, 0.93029587, 0.20770061],\n",
       "        [0.37268753, 0.59672505, 0.52502689]],\n",
       "\n",
       "       [[0.66265537, 0.75006707, 0.72474491],\n",
       "        [0.66030851, 0.8173317 , 0.84500106],\n",
       "        [0.08315913, 0.2119418 , 0.375379  ]],\n",
       "\n",
       "       [[0.02460129, 0.23322359, 0.34822092],\n",
       "        [0.76321639, 0.25883579, 0.8136794 ],\n",
       "        [0.23695306, 0.53826239, 0.61885518]]])"
      ]
     },
     "execution_count": 8,
     "metadata": {},
     "output_type": "execute_result"
    }
   ],
   "source": [
    "# 6. Create a 3x3x3 array with random values\n",
    "random_3x3x3_array = np.random.rand(3, 3, 3)\n",
    "random_3x3x3_array"
   ]
  },
  {
   "cell_type": "code",
   "execution_count": null,
   "metadata": {},
   "outputs": [],
   "source": [
    "# 7. Create a 10x10 array with random values and find the minimum and maximum values\n",
    "random_10x10_array = np.random.rand(10, 10)\n",
    "min_value = random_10x10_array.min()\n",
    "max_value = random_10x10_array.max()\n",
    "min_val"
   ]
  }
 ],
 "metadata": {
  "kernelspec": {
   "display_name": "Python 3",
   "language": "python",
   "name": "python3"
  },
  "language_info": {
   "codemirror_mode": {
    "name": "ipython",
    "version": 3
   },
   "file_extension": ".py",
   "mimetype": "text/x-python",
   "name": "python",
   "nbconvert_exporter": "python",
   "pygments_lexer": "ipython3",
   "version": "3.7.6"
  }
 },
 "nbformat": 4,
 "nbformat_minor": 4
}
