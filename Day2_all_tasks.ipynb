{
 "cells": [
  {
   "cell_type": "code",
   "execution_count": 1,
   "metadata": {},
   "outputs": [
    {
     "data": {
      "text/plain": [
       "[1, 2, 3, 4, 5, 6, 7, 8, 9, 10]"
      ]
     },
     "execution_count": 1,
     "metadata": {},
     "output_type": "execute_result"
    }
   ],
   "source": [
    "x = [1, 2, 3, 4, 5, 6, 7, 8, 9, 10]\n",
    "x"
   ]
  },
  {
   "cell_type": "code",
   "execution_count": 2,
   "metadata": {},
   "outputs": [
    {
     "data": {
      "text/plain": [
       "[1, 2, 3, 4, 5, 6, 7, 8, 9]"
      ]
     },
     "execution_count": 2,
     "metadata": {},
     "output_type": "execute_result"
    }
   ],
   "source": [
    "x[0:9]"
   ]
  },
  {
   "cell_type": "code",
   "execution_count": 3,
   "metadata": {},
   "outputs": [
    {
     "data": {
      "text/plain": [
       "[]"
      ]
     },
     "execution_count": 3,
     "metadata": {},
     "output_type": "execute_result"
    }
   ],
   "source": [
    "x[10:1]"
   ]
  },
  {
   "cell_type": "code",
   "execution_count": 4,
   "metadata": {},
   "outputs": [
    {
     "data": {
      "text/plain": [
       "[]"
      ]
     },
     "execution_count": 4,
     "metadata": {},
     "output_type": "execute_result"
    }
   ],
   "source": [
    "x[-1:-9]"
   ]
  },
  {
   "cell_type": "code",
   "execution_count": 5,
   "metadata": {},
   "outputs": [
    {
     "data": {
      "text/plain": [
       "[2, 3, 4, 5, 6, 7, 8, 9]"
      ]
     },
     "execution_count": 5,
     "metadata": {},
     "output_type": "execute_result"
    }
   ],
   "source": [
    "x[-9:-1]"
   ]
  },
  {
   "cell_type": "code",
   "execution_count": 6,
   "metadata": {},
   "outputs": [
    {
     "data": {
      "text/plain": [
       "[1, 2, 3, 4, 5, 6, 7, 8, 9]"
      ]
     },
     "execution_count": 6,
     "metadata": {},
     "output_type": "execute_result"
    }
   ],
   "source": [
    "x[-10:-1]"
   ]
  },
  {
   "cell_type": "code",
   "execution_count": 7,
   "metadata": {},
   "outputs": [
    {
     "data": {
      "text/plain": [
       "[]"
      ]
     },
     "execution_count": 7,
     "metadata": {},
     "output_type": "execute_result"
    }
   ],
   "source": [
    "x[-1:1]"
   ]
  },
  {
   "cell_type": "code",
   "execution_count": 8,
   "metadata": {},
   "outputs": [
    {
     "data": {
      "text/plain": [
       "[]"
      ]
     },
     "execution_count": 8,
     "metadata": {},
     "output_type": "execute_result"
    }
   ],
   "source": [
    "x[-1:-10]"
   ]
  },
  {
   "cell_type": "code",
   "execution_count": 9,
   "metadata": {},
   "outputs": [
    {
     "data": {
      "text/plain": [
       "[]"
      ]
     },
     "execution_count": 9,
     "metadata": {},
     "output_type": "execute_result"
    }
   ],
   "source": [
    "x[10:1]"
   ]
  },
  {
   "cell_type": "code",
   "execution_count": 10,
   "metadata": {},
   "outputs": [
    {
     "data": {
      "text/plain": [
       "[10, 9, 8, 7, 6, 5, 4, 3, 2, 1]"
      ]
     },
     "execution_count": 10,
     "metadata": {},
     "output_type": "execute_result"
    }
   ],
   "source": [
    "x[::-1]"
   ]
  },
  {
   "cell_type": "code",
   "execution_count": 11,
   "metadata": {},
   "outputs": [
    {
     "data": {
      "text/plain": [
       "[6, 7, 8, 9, 10]"
      ]
     },
     "execution_count": 11,
     "metadata": {},
     "output_type": "execute_result"
    }
   ],
   "source": [
    "x[-5:]"
   ]
  },
  {
   "cell_type": "code",
   "execution_count": 12,
   "metadata": {},
   "outputs": [
    {
     "data": {
      "text/plain": [
       "[1, 2, 3, 4, 5, 6, 7, 8, 9, 10]"
      ]
     },
     "execution_count": 12,
     "metadata": {},
     "output_type": "execute_result"
    }
   ],
   "source": [
    "x"
   ]
  },
  {
   "cell_type": "code",
   "execution_count": 15,
   "metadata": {},
   "outputs": [
    {
     "ename": "TypeError",
     "evalue": "unsupported operand type(s) for +: 'int' and 'str'",
     "output_type": "error",
     "traceback": [
      "\u001b[0;31m---------------------------------------------------------------------------\u001b[0m",
      "\u001b[0;31mTypeError\u001b[0m                                 Traceback (most recent call last)",
      "\u001b[0;32m<ipython-input-15-8869befcdd1a>\u001b[0m in \u001b[0;36m<module>\u001b[0;34m\u001b[0m\n\u001b[1;32m      4\u001b[0m \u001b[0mvar3\u001b[0m \u001b[0;34m=\u001b[0m \u001b[0;34m\"3\"\u001b[0m\u001b[0;34m\u001b[0m\u001b[0;34m\u001b[0m\u001b[0m\n\u001b[1;32m      5\u001b[0m \u001b[0;34m\u001b[0m\u001b[0m\n\u001b[0;32m----> 6\u001b[0;31m \u001b[0mprint\u001b[0m\u001b[0;34m(\u001b[0m\u001b[0mvar1\u001b[0m \u001b[0;34m+\u001b[0m \u001b[0mvar2\u001b[0m \u001b[0;34m+\u001b[0m \u001b[0mvar3\u001b[0m\u001b[0;34m)\u001b[0m\u001b[0;34m\u001b[0m\u001b[0;34m\u001b[0m\u001b[0m\n\u001b[0m",
      "\u001b[0;31mTypeError\u001b[0m: unsupported operand type(s) for +: 'int' and 'str'"
     ]
    }
   ],
   "source": [
    "#1 . what is the output of the following code ? Ans - ERROR as Var3 is a string type variable \n",
    "var1 = 1\n",
    "var2 = 2\n",
    "var3 = \"3\"\n",
    "\n",
    "print(var1 + var2 + var3)\n"
   ]
  },
  {
   "cell_type": "code",
   "execution_count": 16,
   "metadata": {},
   "outputs": [
    {
     "name": "stdout",
     "output_type": "stream",
     "text": [
      "25\n",
      "125\n"
     ]
    }
   ],
   "source": [
    "#2. What is the output of the following code?\n",
    "\n",
    "valueOne = 5 ** 2\n",
    "valueTwo = 5 ** 3\n",
    "\n",
    "print(valueOne)\n",
    "print(valueTwo)\n"
   ]
  },
  {
   "cell_type": "code",
   "execution_count": 17,
   "metadata": {},
   "outputs": [
    {
     "name": "stdout",
     "output_type": "stream",
     "text": [
      "182.0\n"
     ]
    }
   ],
   "source": [
    "#3. What is the output of the following?\n",
    "\n",
    "x = 36 / 4 * (3 +  2) * 4 + 2\n",
    "print(x)\n"
   ]
  },
  {
   "cell_type": "code",
   "execution_count": 20,
   "metadata": {},
   "outputs": [
    {
     "name": "stdout",
     "output_type": "stream",
     "text": [
      "maJ\n"
     ]
    }
   ],
   "source": [
    "#4. What is the output of the following code?\n",
    "\n",
    "var= \"James Bond\"\n",
    "print(var[2::-1])"
   ]
  },
  {
   "cell_type": "code",
   "execution_count": 21,
   "metadata": {},
   "outputs": [
    {
     "name": "stdout",
     "output_type": "stream",
     "text": [
      "10 20 30\n"
     ]
    }
   ],
   "source": [
    "#5. What is the output of the following code?\n",
    "\n",
    "p, q, r = 10, 20 ,30\n",
    "print(p, q, r)\n"
   ]
  },
  {
   "cell_type": "code",
   "execution_count": 22,
   "metadata": {},
   "outputs": [
    {
     "name": "stdout",
     "output_type": "stream",
     "text": [
      "yn\n"
     ]
    }
   ],
   "source": [
    "#6. What is the output of the following code?\n",
    "\n",
    "str = \"pynative\"\n",
    "print (str[1:3])\n"
   ]
  },
  {
   "cell_type": "code",
   "execution_count": 23,
   "metadata": {},
   "outputs": [
    {
     "ename": "TypeError",
     "evalue": "add() takes exactly one argument (2 given)",
     "output_type": "error",
     "traceback": [
      "\u001b[0;31m---------------------------------------------------------------------------\u001b[0m",
      "\u001b[0;31mTypeError\u001b[0m                                 Traceback (most recent call last)",
      "\u001b[0;32m<ipython-input-23-f11a92f86517>\u001b[0m in \u001b[0;36m<module>\u001b[0;34m\u001b[0m\n\u001b[1;32m      2\u001b[0m \u001b[0;34m\u001b[0m\u001b[0m\n\u001b[1;32m      3\u001b[0m \u001b[0msampleSet\u001b[0m \u001b[0;34m=\u001b[0m \u001b[0;34m{\u001b[0m\u001b[0;34m\"Jodi\"\u001b[0m\u001b[0;34m,\u001b[0m \u001b[0;34m\"Eric\"\u001b[0m\u001b[0;34m,\u001b[0m \u001b[0;34m\"Garry\"\u001b[0m\u001b[0;34m}\u001b[0m\u001b[0;34m\u001b[0m\u001b[0;34m\u001b[0m\u001b[0m\n\u001b[0;32m----> 4\u001b[0;31m \u001b[0msampleSet\u001b[0m\u001b[0;34m.\u001b[0m\u001b[0madd\u001b[0m\u001b[0;34m(\u001b[0m\u001b[0;36m1\u001b[0m\u001b[0;34m,\u001b[0m \u001b[0;34m\"Vicki\"\u001b[0m\u001b[0;34m)\u001b[0m\u001b[0;34m\u001b[0m\u001b[0;34m\u001b[0m\u001b[0m\n\u001b[0m\u001b[1;32m      5\u001b[0m \u001b[0mprint\u001b[0m\u001b[0;34m(\u001b[0m\u001b[0msampleSet\u001b[0m\u001b[0;34m)\u001b[0m\u001b[0;34m\u001b[0m\u001b[0;34m\u001b[0m\u001b[0m\n",
      "\u001b[0;31mTypeError\u001b[0m: add() takes exactly one argument (2 given)"
     ]
    }
   ],
   "source": [
    "#7. What is the output of the following code? Ans:- ERROR. add keyword takes only one argument.\n",
    "\n",
    "sampleSet = {\"Jodi\", \"Eric\", \"Garry\"}\n",
    "sampleSet.add(1, \"Vicki\")\n",
    "print(sampleSet)\n"
   ]
  },
  {
   "cell_type": "code",
   "execution_count": 24,
   "metadata": {},
   "outputs": [
    {
     "ename": "TypeError",
     "evalue": "append() takes exactly one argument (2 given)",
     "output_type": "error",
     "traceback": [
      "\u001b[0;31m---------------------------------------------------------------------------\u001b[0m",
      "\u001b[0;31mTypeError\u001b[0m                                 Traceback (most recent call last)",
      "\u001b[0;32m<ipython-input-24-0f10d1c19e64>\u001b[0m in \u001b[0;36m<module>\u001b[0;34m\u001b[0m\n\u001b[1;32m      2\u001b[0m \u001b[0;34m\u001b[0m\u001b[0m\n\u001b[1;32m      3\u001b[0m \u001b[0msampleList\u001b[0m \u001b[0;34m=\u001b[0m \u001b[0;34m[\u001b[0m\u001b[0;34m\"Jon\"\u001b[0m\u001b[0;34m,\u001b[0m \u001b[0;34m\"Kelly\"\u001b[0m\u001b[0;34m,\u001b[0m \u001b[0;34m\"Jessa\"\u001b[0m\u001b[0;34m]\u001b[0m\u001b[0;34m\u001b[0m\u001b[0;34m\u001b[0m\u001b[0m\n\u001b[0;32m----> 4\u001b[0;31m \u001b[0msampleList\u001b[0m\u001b[0;34m.\u001b[0m\u001b[0mappend\u001b[0m\u001b[0;34m(\u001b[0m\u001b[0;36m2\u001b[0m\u001b[0;34m,\u001b[0m \u001b[0;34m\"Scott\"\u001b[0m\u001b[0;34m)\u001b[0m\u001b[0;34m\u001b[0m\u001b[0;34m\u001b[0m\u001b[0m\n\u001b[0m\u001b[1;32m      5\u001b[0m \u001b[0mprint\u001b[0m\u001b[0;34m(\u001b[0m\u001b[0msampleList\u001b[0m\u001b[0;34m)\u001b[0m\u001b[0;34m\u001b[0m\u001b[0;34m\u001b[0m\u001b[0m\n",
      "\u001b[0;31mTypeError\u001b[0m: append() takes exactly one argument (2 given)"
     ]
    }
   ],
   "source": [
    "#8. What is the output of the following code? Ans:- append keyword only takes single argument.\n",
    "\n",
    "sampleList = [\"Jon\", \"Kelly\", \"Jessa\"]\n",
    "sampleList.append(2, \"Scott\")\n",
    "print(sampleList)\n"
   ]
  },
  {
   "cell_type": "code",
   "execution_count": 25,
   "metadata": {},
   "outputs": [
    {
     "name": "stdout",
     "output_type": "stream",
     "text": [
      "JamesJamesJamesJamesJamesJames\n"
     ]
    }
   ],
   "source": [
    "#9. What is the output of the following code?\n",
    "\n",
    "var = \"James\" * 2  * 3\n",
    "print(var)\n"
   ]
  },
  {
   "cell_type": "code",
   "execution_count": 26,
   "metadata": {},
   "outputs": [
    {
     "name": "stdout",
     "output_type": "stream",
     "text": [
      "True\n",
      "False\n"
     ]
    }
   ],
   "source": [
    "#10. What is the output of the following code? ANs: Equals checks if the values in the lists are same or not .Is checks if they are in same memory.\n",
    "\n",
    "listOne = [20, 40, 60, 80]\n",
    "listTwo = [20, 40, 60, 80]\n",
    "print(listOne == listTwo)\n",
    "print(listOne is listTwo)\n"
   ]
  },
  {
   "cell_type": "code",
   "execution_count": 28,
   "metadata": {},
   "outputs": [
    {
     "name": "stdout",
     "output_type": "stream",
     "text": [
      "['c', 'd', 'e', 'f', 'g']\n"
     ]
    }
   ],
   "source": [
    "#10. What would be the output of the following \n",
    "\n",
    "L = ['a', 'b', 'c', 'd', 'e', 'f', 'g', 'h', 'i']\n",
    "print(L[-7:-2])\n"
   ]
  },
  {
   "cell_type": "code",
   "execution_count": 30,
   "metadata": {},
   "outputs": [
    {
     "name": "stdout",
     "output_type": "stream",
     "text": [
      "['g', 'e', 'c']\n"
     ]
    }
   ],
   "source": [
    "#11. What would be the output of the following\n",
    "\n",
    "L = ['a', 'b', 'c', 'd', 'e', 'f', 'g', 'h', 'i']\n",
    "print(L[6:1:-2])\n"
   ]
  },
  {
   "cell_type": "code",
   "execution_count": 31,
   "metadata": {},
   "outputs": [
    {
     "name": "stdout",
     "output_type": "stream",
     "text": [
      "['a', 1, 2, 3, 'c', 'd', 'e']\n"
     ]
    }
   ],
   "source": [
    "#12. What is the following code doing ?\n",
    "\n",
    "L = ['a', 'b', 'c', 'd', 'e']\n",
    "L[1:2] = [1, 2, 3]\n",
    "print(L)\n"
   ]
  },
  {
   "cell_type": "code",
   "execution_count": 34,
   "metadata": {},
   "outputs": [
    {
     "name": "stdout",
     "output_type": "stream",
     "text": [
      "0 python\n",
      "1 java\n",
      "2 c\n",
      "3 c++\n",
      "4 django\n"
     ]
    }
   ],
   "source": [
    "my_list=['python','java','c','c++','django']\n",
    "for index in range(len(my_list)):\n",
    "    print(index,my_list[index])"
   ]
  },
  {
   "cell_type": "code",
   "execution_count": 35,
   "metadata": {},
   "outputs": [
    {
     "name": "stdout",
     "output_type": "stream",
     "text": [
      "0 python\n",
      "1 java\n",
      "2 c\n",
      "3 c++\n",
      "4 django\n"
     ]
    }
   ],
   "source": [
    "for index,language in enumerate(my_list):\n",
    "    print(index,language)"
   ]
  },
  {
   "cell_type": "code",
   "execution_count": null,
   "metadata": {},
   "outputs": [],
   "source": [
    "'''\n",
    "1. Create a list of 10 employees\n",
    "2. Create tuple of salaries of these 10 employees \n",
    "3. Create a tuple of rating of these 10 employees (0-10)\n",
    "4. Generate a dictionary of employees and their new salaries based on their ratings\n",
    "The update to salaries should be as\n",
    "a. For rating 0-3 no salaries should be updated\n",
    "b. For rating 3 - 5 a 3% increment to be given\n",
    "c. For rating 5 - 7 a 5% increment to be given \n",
    "d. For rating 7-9 a 7% increment to be given\n",
    "e. For rating 9 and above a 7% increment and a bonus of 10% of initial salary to be given \n",
    "\n"
   ]
  },
  {
   "cell_type": "code",
   "execution_count": 44,
   "metadata": {},
   "outputs": [
    {
     "name": "stdout",
     "output_type": "stream",
     "text": [
      "employee: 10\n",
      "salaries: 10\n",
      "ratings : 10\n"
     ]
    }
   ],
   "source": [
    "employee = ['John', 'Mary', 'Krishna', 'Namesh', 'Aastha', 'Jason', 'Kavita', 'Ravi', 'Shruti', 'Shubham']\n",
    "print('employee: {}'.format(len(employee)))\n",
    "salaries = (10000, 12000, 13000, 18500, 11000, 19800, 20000, 23500, 19450, 8000)\n",
    "print('salaries: {}'.format(len(salaries)))\n",
    "ratings = (2.3, 4.7, 4.3, 9.9, 8.4, 6.1, 6.1, 4.0, 8.8, 9.3)\n",
    "print('ratings : {}'.format(len(ratings)))"
   ]
  },
  {
   "cell_type": "code",
   "execution_count": 54,
   "metadata": {},
   "outputs": [
    {
     "name": "stdout",
     "output_type": "stream",
     "text": [
      "[2.3, 4.7, 4.3, 9.9, 8.4, 6.1, 6.1, 4.0, 8.8, 9.3]\n",
      "{'John': 10000, 'Mary': 12360.0, 'Krishna': 13390.0, 'Namesh': 21645.0, 'Aastha': 11770.0, 'Jason': 20790.0, 'Kavita': 21000.0, 'Ravi': 24205.0, 'Shruti': 20811.5, 'Shubham': 9360.0}\n"
     ]
    }
   ],
   "source": [
    "employee = ['John', 'Mary', 'Krishna', 'Namesh', 'Aastha', 'Jason', 'Kavita', 'Ravi', 'Shruti', 'Shubham']\n",
    "salaries = [10000, 12000, 13000, 18500, 11000, 19800, 20000, 23500, 19450, 8000]\n",
    "ratings = [2.3, 4.7, 4.3, 9.9, 8.4, 6.1, 6.1, 4.0, 8.8, 9.3]\n",
    "\n",
    "# Define a function to calculate new salaries based on ratings\n",
    "def calculate_new_salary(rating, current_salary):\n",
    "    if rating < 3:\n",
    "        return current_salary\n",
    "    elif 3 <= rating < 5:\n",
    "        return current_salary * 1.03  # 3% increment\n",
    "    elif 5 <= rating < 7:\n",
    "        return current_salary * 1.05  # 5% increment\n",
    "    elif 7 <= rating < 9:\n",
    "        return current_salary * 1.07  # 7% increment\n",
    "    else:\n",
    "        return current_salary * 1.07 + 0.10 * current_salary  # 7% increment and 10% bonus\n",
    "\n",
    "# Create a dictionary with updated salaries\n",
    "employee_salaries = {name: calculate_new_salary(rating, salary) for name, rating, salary in zip(employee, ratings, salaries)}\n",
    "\n",
    "# Print the resulting dictionary\n",
    "print(employee_salaries)\n"
   ]
  },
  {
   "cell_type": "code",
   "execution_count": 46,
   "metadata": {},
   "outputs": [],
   "source": [
    "def calling_a_function():\n",
    "    a=int(input('enter a number a :'))\n",
    "    b=int(input('enter a number b :'))\n",
    "    if b==0:\n",
    "        print(\"division not possible\")\n",
    "    else:\n",
    "        print(a/b)\n"
   ]
  },
  {
   "cell_type": "code",
   "execution_count": 47,
   "metadata": {},
   "outputs": [
    {
     "name": "stdin",
     "output_type": "stream",
     "text": [
      "enter a number a : 10\n",
      "enter a number b : 2\n"
     ]
    },
    {
     "name": "stdout",
     "output_type": "stream",
     "text": [
      "5.0\n"
     ]
    }
   ],
   "source": [
    "calling_a_function()"
   ]
  },
  {
   "cell_type": "code",
   "execution_count": 48,
   "metadata": {},
   "outputs": [
    {
     "name": "stdin",
     "output_type": "stream",
     "text": [
      "enter a number a : 10\n",
      "enter a number b : 0\n"
     ]
    },
    {
     "name": "stdout",
     "output_type": "stream",
     "text": [
      "division not possible\n"
     ]
    }
   ],
   "source": [
    "calling_a_function()"
   ]
  },
  {
   "cell_type": "code",
   "execution_count": null,
   "metadata": {},
   "outputs": [],
   "source": [
    "'''Write function that takes in 4 list of strings and returns 4 list of length of maximum string\n",
    "\n",
    "Example : list1 = ['book', 'man', 'woman']\n",
    "          list2 = ['character', 'python', 'location', 'green']\n",
    "          list3 = ['python', 'mumbai', 'melbourne']\n",
    "          list4 = ['parliament', 'sport', 'ecommerce']\n",
    "          \n",
    "func1(list1, list2, list3, list4) ->  [5, 9, 9, 10]\n",
    "\n",
    "Once you get the list call another function which normalizes the list"
   ]
  },
  {
   "cell_type": "code",
   "execution_count": 7,
   "metadata": {},
   "outputs": [
    {
     "name": "stdout",
     "output_type": "stream",
     "text": [
      "[5, 9, 9, 10]\n",
      "[0.15151515151515152, 0.2727272727272727, 0.2727272727272727, 0.30303030303030304]\n"
     ]
    }
   ],
   "source": [
    "def func1(list1, list2, list3, list4):\n",
    "\n",
    "    max_length_list1 = max(len(s) for s in list1)\n",
    "    max_length_list2 = max(len(s) for s in list2)\n",
    "    max_length_list3 = max(len(s) for s in list3)\n",
    "    max_length_list4 = max(len(s) for s in list4)\n",
    "    \n",
    "    # Return a list of the maximum string length\n",
    "    return [max_length_list1, max_length_list2, max_length_list3, max_length_list4]\n",
    "\n",
    "def func2(max_lengths):\n",
    "    # Calculate the sum of the maximum lengths\n",
    "    total = sum(max_lengths)\n",
    "    \n",
    "    # Normalize the list by dividing each value by the total\n",
    "    normalized = [length / total for length in max_lengths]\n",
    "    \n",
    "    return normalized\n",
    "\n",
    "list1 = ['book', 'man', 'woman']\n",
    "list2 = ['character', 'python', 'location', 'green']\n",
    "list3 = ['python', 'mumbai', 'melbourne']\n",
    "list4 = ['parliament', 'sport', 'ecommerce']\n",
    "\n",
    "max_lengths = func1(list1, list2, list3, list4)\n",
    "normalized_lengths = func2(max_lengths)\n",
    "\n",
    "print(max_lengths)  # [5, 9, 9, 10]\n",
    "print(normalized_lengths)  # [5/33, 9/33, 9/33, 10/33]\n"
   ]
  },
  {
   "cell_type": "code",
   "execution_count": 9,
   "metadata": {},
   "outputs": [
    {
     "name": "stdout",
     "output_type": "stream",
     "text": [
      "*\n",
      "*\n",
      "*\n",
      "*\n",
      "*\n",
      "*\n"
     ]
    }
   ],
   "source": [
    "for i in range(6):\n",
    "    print('*')"
   ]
  },
  {
   "cell_type": "code",
   "execution_count": 17,
   "metadata": {},
   "outputs": [
    {
     "name": "stdout",
     "output_type": "stream",
     "text": [
      "\n",
      " bishal\n",
      " bishal\n",
      " bishal\n"
     ]
    }
   ],
   "source": [
    "print('\\n bishal'*3)"
   ]
  },
  {
   "cell_type": "code",
   "execution_count": 20,
   "metadata": {},
   "outputs": [
    {
     "name": "stdout",
     "output_type": "stream",
     "text": [
      "*\n",
      "**\n",
      "***\n",
      "****\n",
      "*****\n"
     ]
    }
   ],
   "source": [
    "def pattern1(n):\n",
    "    for i in range(1,n+1):\n",
    "        print('*'*i)\n",
    "    \n",
    "n=5  \n",
    "pattern1(n)\n",
    "    "
   ]
  },
  {
   "cell_type": "code",
   "execution_count": 23,
   "metadata": {},
   "outputs": [
    {
     "name": "stdout",
     "output_type": "stream",
     "text": [
      "    *\n",
      "   ***\n",
      "  *****\n",
      " *******\n",
      "*********\n"
     ]
    }
   ],
   "source": [
    "def print_asterisk_pattern(n):\n",
    "    for i in range(1, n + 1):\n",
    "        spaces = ' ' * (n - i)\n",
    "        asterisks = '*' * (2 * i - 1)\n",
    "        print(spaces + asterisks)\n",
    "\n",
    "n = 5\n",
    "print_asterisk_pattern(n)\n"
   ]
  },
  {
   "cell_type": "code",
   "execution_count": 24,
   "metadata": {},
   "outputs": [
    {
     "name": "stdout",
     "output_type": "stream",
     "text": [
      "* * * * * \n",
      "*       *\n",
      "*       *\n",
      "*       *\n",
      "* * * * * \n"
     ]
    }
   ],
   "source": [
    "def print_asterisk_pattern(n):\n",
    "    for i in range(n):\n",
    "        if i == 0 or i == n - 1:\n",
    "            print('* ' * n)\n",
    "        else:\n",
    "            print('*' + ' ' * (2 * n - 3) + '*')\n",
    "n = 5\n",
    "print_asterisk_pattern(n)\n"
   ]
  },
  {
   "cell_type": "code",
   "execution_count": 26,
   "metadata": {},
   "outputs": [
    {
     "name": "stdout",
     "output_type": "stream",
     "text": [
      "Years since 2001 with digits divisible by 2:\n",
      "2002\n",
      "2004\n",
      "2006\n",
      "2008\n",
      "2011\n",
      "2013\n",
      "2015\n",
      "2017\n",
      "2019\n",
      "2020\n",
      "2022\n"
     ]
    }
   ],
   "source": [
    "from datetime import datetime\n",
    "\n",
    "def is_divisible_by_2(year):\n",
    "    digit_sum = sum(int(digit) for digit in str(year))\n",
    "    return digit_sum % 2 == 0\n",
    "\n",
    "def print_years_with_divisible_digits(birth_year):\n",
    "    current_year = datetime.now().year\n",
    "    for year in range(birth_year, current_year + 1):\n",
    "        if is_divisible_by_2(year):\n",
    "            print(year)\n",
    "\n",
    "\n",
    "your_birth_year = 2001\n",
    "print(f\"Years since {your_birth_year} with digits divisible by 2:\")\n",
    "print_years_with_divisible_digits(your_birth_year)\n"
   ]
  },
  {
   "cell_type": "code",
   "execution_count": null,
   "metadata": {},
   "outputs": [],
   "source": []
  }
 ],
 "metadata": {
  "kernelspec": {
   "display_name": "Python 3",
   "language": "python",
   "name": "python3"
  },
  "language_info": {
   "codemirror_mode": {
    "name": "ipython",
    "version": 3
   },
   "file_extension": ".py",
   "mimetype": "text/x-python",
   "name": "python",
   "nbconvert_exporter": "python",
   "pygments_lexer": "ipython3",
   "version": "3.7.6"
  }
 },
 "nbformat": 4,
 "nbformat_minor": 4
}
